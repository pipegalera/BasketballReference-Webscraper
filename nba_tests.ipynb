{
    "cells": [
        {
            "cell_type": "code",
            "execution_count": 7,
            "source": [
                "from functions_app import *"
            ],
            "outputs": [],
            "metadata": {}
        },
        {
            "cell_type": "code",
            "execution_count": 30,
            "source": [
                "def start_of_the_season_indicator():\r\n",
                "    \"\"\"\r\n",
                "    If before Oct 19:\r\n",
                "         current ended season\r\n",
                "    If August:\r\n",
                "         next starting season\r\n",
                "    \"\"\"\r\n",
                "    if (date.today().month < 10) & (date.today().day < 10):\r\n",
                "        return (str(date.today().year - 1) + str(\"-\") + str(date.today().year))\r\n",
                "    else:\r\n",
                "        return (str(date.today().year) + str(\"-\") + str(date.today().year + 1))\r\n",
                "\r\n",
                "current_season = int(start_of_the_season_indicator()[5:])\r\n",
                "\r\n",
                "seasons_dict, seasons_list =  get_seasons_dict(2019, current_season+1)"
            ],
            "outputs": [],
            "metadata": {}
        },
        {
            "cell_type": "code",
            "execution_count": 31,
            "source": [
                "selected_seasons = seasons_list"
            ],
            "outputs": [],
            "metadata": {}
        },
        {
            "cell_type": "code",
            "execution_count": 32,
            "source": [
                "def nba_salaries(seasons_dict, selected_seasons):\r\n",
                "    # Store the key of the selected seasons\r\n",
                "    keys_seasons = []\r\n",
                "    for i in selected_seasons: \r\n",
                "        keys_seasons.append(seasons_dict.get(i))\r\n",
                "\r\n",
                "    # List of URLs\r\n",
                "    list_urls = []\r\n",
                "    for season in selected_seasons:\r\n",
                "        if season == start_of_the_season_indicator():\r\n",
                "            url = 'https://hoopshype.com/salaries/players/'\r\n",
                "            list_urls.append(url)\r\n",
                "        else:\r\n",
                "            url = 'https://hoopshype.com/salaries/players/{}'.format(season)\r\n",
                "            list_urls.append(url)\r\n",
                "\r\n",
                "    # Create a DataFrame that we will add the info in the url list by loop\r\n",
                "    df = pd.DataFrame()\r\n",
                "\r\n",
                "    # Salaries \r\n",
                "    for url in list_urls:\r\n",
                "        if url == 'https://hoopshype.com/salaries/players/':\r\n",
                "            salary = pd.read_html(url, header = 0)[0].iloc[:,1:3]\r\n",
                "            # Add a column indicating the season of the salary\r\n",
                "            salary[\"Season\"] = salary.columns[1]\r\n",
                "            # Rename the previous column name with just \"Salary\"\r\n",
                "            salary.rename(columns={salary.columns[1]: \"Salary\"}, inplace = True)\r\n",
                "\r\n",
                "            df = df.append(salary, ignore_index = True)\r\n",
                "\r\n",
                "        else:\r\n",
                "            salary = pd.read_html(url, header = 0)[0].iloc[:,1:]\r\n",
                "            # Add a column indicating the season of the salary\r\n",
                "            salary[\"Season\"] = salary.columns[1] \r\n",
                "            # Rename the previous column name with just \"Salary\"\r\n",
                "            salary.rename(columns={salary.columns[1]: \"Salary\", \r\n",
                "                                   salary.columns[2]: \"Salary adjusted by inflation\"}, \r\n",
                "                          inplace = True)\r\n",
                "\r\n",
                "            df = df.append(salary, ignore_index = True)\r\n",
                "\r\n",
                "    # Tidy the dataset\r\n",
                "    df = df.replace(['\\$', ','], '', regex=True)\r\n",
                "    df = df.apply(pd.to_numeric, errors = 'ignore').fillna(0)\r\n",
                "    df = df.sort_values(by = [\"Season\", \"Salary\"], ascending = False)\r\n",
                "    \r\n",
                "    \r\n",
                "    return df"
            ],
            "outputs": [],
            "metadata": {}
        },
        {
            "cell_type": "code",
            "execution_count": 33,
            "source": [
                "test = nba_salaries(seasons_dict, selected_seasons)\r\n",
                "test"
            ],
            "outputs": [
                {
                    "output_type": "execute_result",
                    "data": {
                        "text/plain": [
                            "                 Player    Salary   Season  Salary adjusted by inflation\n",
                            "0         Stephen Curry  45780966  2021/22                           0.0\n",
                            "1          James Harden  44310840  2021/22                           0.0\n",
                            "2             John Wall  44310840  2021/22                           0.0\n",
                            "3     Russell Westbrook  44211146  2021/22                           0.0\n",
                            "4        Damian Lillard  43750000  2021/22                           0.0\n",
                            "...                 ...       ...      ...                           ...\n",
                            "1430      Dusty Hannahs     47370  2018/19                       48461.0\n",
                            "1431      Kendrick Nunn     47370  2018/19                       48461.0\n",
                            "1432    Richard Solomon     47370  2018/19                       48461.0\n",
                            "1433         Cody Demps     47370  2018/19                       48461.0\n",
                            "1434      Tarik Phillip     47370  2018/19                       48461.0\n",
                            "\n",
                            "[1435 rows x 4 columns]"
                        ],
                        "text/html": [
                            "<div>\n",
                            "<style scoped>\n",
                            "    .dataframe tbody tr th:only-of-type {\n",
                            "        vertical-align: middle;\n",
                            "    }\n",
                            "\n",
                            "    .dataframe tbody tr th {\n",
                            "        vertical-align: top;\n",
                            "    }\n",
                            "\n",
                            "    .dataframe thead th {\n",
                            "        text-align: right;\n",
                            "    }\n",
                            "</style>\n",
                            "<table border=\"1\" class=\"dataframe\">\n",
                            "  <thead>\n",
                            "    <tr style=\"text-align: right;\">\n",
                            "      <th></th>\n",
                            "      <th>Player</th>\n",
                            "      <th>Salary</th>\n",
                            "      <th>Season</th>\n",
                            "      <th>Salary adjusted by inflation</th>\n",
                            "    </tr>\n",
                            "  </thead>\n",
                            "  <tbody>\n",
                            "    <tr>\n",
                            "      <th>0</th>\n",
                            "      <td>Stephen Curry</td>\n",
                            "      <td>45780966</td>\n",
                            "      <td>2021/22</td>\n",
                            "      <td>0.0</td>\n",
                            "    </tr>\n",
                            "    <tr>\n",
                            "      <th>1</th>\n",
                            "      <td>James Harden</td>\n",
                            "      <td>44310840</td>\n",
                            "      <td>2021/22</td>\n",
                            "      <td>0.0</td>\n",
                            "    </tr>\n",
                            "    <tr>\n",
                            "      <th>2</th>\n",
                            "      <td>John Wall</td>\n",
                            "      <td>44310840</td>\n",
                            "      <td>2021/22</td>\n",
                            "      <td>0.0</td>\n",
                            "    </tr>\n",
                            "    <tr>\n",
                            "      <th>3</th>\n",
                            "      <td>Russell Westbrook</td>\n",
                            "      <td>44211146</td>\n",
                            "      <td>2021/22</td>\n",
                            "      <td>0.0</td>\n",
                            "    </tr>\n",
                            "    <tr>\n",
                            "      <th>4</th>\n",
                            "      <td>Damian Lillard</td>\n",
                            "      <td>43750000</td>\n",
                            "      <td>2021/22</td>\n",
                            "      <td>0.0</td>\n",
                            "    </tr>\n",
                            "    <tr>\n",
                            "      <th>...</th>\n",
                            "      <td>...</td>\n",
                            "      <td>...</td>\n",
                            "      <td>...</td>\n",
                            "      <td>...</td>\n",
                            "    </tr>\n",
                            "    <tr>\n",
                            "      <th>1430</th>\n",
                            "      <td>Dusty Hannahs</td>\n",
                            "      <td>47370</td>\n",
                            "      <td>2018/19</td>\n",
                            "      <td>48461.0</td>\n",
                            "    </tr>\n",
                            "    <tr>\n",
                            "      <th>1431</th>\n",
                            "      <td>Kendrick Nunn</td>\n",
                            "      <td>47370</td>\n",
                            "      <td>2018/19</td>\n",
                            "      <td>48461.0</td>\n",
                            "    </tr>\n",
                            "    <tr>\n",
                            "      <th>1432</th>\n",
                            "      <td>Richard Solomon</td>\n",
                            "      <td>47370</td>\n",
                            "      <td>2018/19</td>\n",
                            "      <td>48461.0</td>\n",
                            "    </tr>\n",
                            "    <tr>\n",
                            "      <th>1433</th>\n",
                            "      <td>Cody Demps</td>\n",
                            "      <td>47370</td>\n",
                            "      <td>2018/19</td>\n",
                            "      <td>48461.0</td>\n",
                            "    </tr>\n",
                            "    <tr>\n",
                            "      <th>1434</th>\n",
                            "      <td>Tarik Phillip</td>\n",
                            "      <td>47370</td>\n",
                            "      <td>2018/19</td>\n",
                            "      <td>48461.0</td>\n",
                            "    </tr>\n",
                            "  </tbody>\n",
                            "</table>\n",
                            "<p>1435 rows × 4 columns</p>\n",
                            "</div>"
                        ]
                    },
                    "metadata": {},
                    "execution_count": 33
                }
            ],
            "metadata": {}
        },
        {
            "cell_type": "code",
            "execution_count": 34,
            "source": [
                "keys_seasons = []\r\n",
                "for i in selected_seasons: \r\n",
                "    keys_seasons.append(seasons_dict.get(i))"
            ],
            "outputs": [],
            "metadata": {}
        },
        {
            "cell_type": "code",
            "execution_count": 36,
            "source": [
                "# List of URLs\r\n",
                "list_urls = []\r\n",
                "for season in selected_seasons:\r\n",
                "    if season == start_of_the_season_indicator():\r\n",
                "        url = 'https://hoopshype.com/salaries/players/'\r\n",
                "        list_urls.append(url)\r\n",
                "    else:\r\n",
                "        url = 'https://hoopshype.com/salaries/players/{}'.format(season)\r\n",
                "        list_urls.append(url)\r\n"
            ],
            "outputs": [],
            "metadata": {}
        },
        {
            "cell_type": "code",
            "execution_count": 37,
            "source": [
                "list_urls"
            ],
            "outputs": [
                {
                    "output_type": "execute_result",
                    "data": {
                        "text/plain": [
                            "['https://hoopshype.com/salaries/players/',\n",
                            " 'https://hoopshype.com/salaries/players/2019-2020',\n",
                            " 'https://hoopshype.com/salaries/players/2018-2019']"
                        ]
                    },
                    "metadata": {},
                    "execution_count": 37
                }
            ],
            "metadata": {}
        }
    ],
    "metadata": {
        "orig_nbformat": 4,
        "language_info": {
            "name": "python",
            "version": "3.7.9",
            "mimetype": "text/x-python",
            "codemirror_mode": {
                "name": "ipython",
                "version": 3
            },
            "pygments_lexer": "ipython3",
            "nbconvert_exporter": "python",
            "file_extension": ".py"
        },
        "kernelspec": {
            "name": "python3",
            "display_name": "Python 3.7.9 64-bit ('datacamp': conda)"
        },
        "interpreter": {
            "hash": "813296bf83502b6222451b5170ed76b7fd5c8ce20636d23585781e83fd67253a"
        }
    },
    "nbformat": 4,
    "nbformat_minor": 2
}